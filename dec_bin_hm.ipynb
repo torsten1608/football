{
  "nbformat": 4,
  "nbformat_minor": 0,
  "metadata": {
    "colab": {
      "name": "dec-bin-hm.ipynb",
      "provenance": [],
      "collapsed_sections": [],
      "authorship_tag": "ABX9TyMISdT1MNifERZfUp+hcZKB",
      "include_colab_link": true
    },
    "kernelspec": {
      "name": "python3",
      "display_name": "Python 3"
    },
    "language_info": {
      "name": "python"
    }
  },
  "cells": [
    {
      "cell_type": "markdown",
      "metadata": {
        "id": "view-in-github",
        "colab_type": "text"
      },
      "source": [
        "<a href=\"https://colab.research.google.com/github/torsten1608/football/blob/master/dec_bin_hm.ipynb\" target=\"_parent\"><img src=\"https://colab.research.google.com/assets/colab-badge.svg\" alt=\"Open In Colab\"/></a>"
      ]
    },
    {
      "cell_type": "markdown",
      "metadata": {
        "id": "Cn252svOS7M5"
      },
      "source": [
        "\n",
        "Ein schneller Workflow für Google Colab-, Github- und Jupyter-Notebooks auf dem Mac (https://ichi.pro/de/post/17548431384607) "
      ]
    },
    {
      "cell_type": "code",
      "metadata": {
        "id": "iGxBhhXTSlgo"
      },
      "source": [
        ""
      ],
      "execution_count": null,
      "outputs": []
    }
  ]
}